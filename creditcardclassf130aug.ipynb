{
 "cells": [
  {
   "cell_type": "markdown",
   "id": "aaeee712",
   "metadata": {},
   "source": [
    "***GENERATED CODE FOR creditcardclassf130aug PIPELINE.***"
   ]
  },
  {
   "cell_type": "markdown",
   "id": "06b27875",
   "metadata": {},
   "source": [
    "***DON'T EDIT THIS CODE.***"
   ]
  },
  {
   "cell_type": "markdown",
   "id": "bedcc2f4",
   "metadata": {},
   "source": [
    "***CONNECTOR FUNCTIONS TO READ DATA.***"
   ]
  },
  {
   "cell_type": "code",
   "execution_count": null,
   "id": "8688a4e6",
   "metadata": {},
   "outputs": [],
   "source": [
    "from hdfs3 import HDFileSystem\n",
    "import datetime\n",
    "import logging\n",
    "import warnings\n",
    "warnings.filterwarnings('ignore')\n",
    "logging.basicConfig(format='%(levelname)s:%(message)s', level=logging.INFO)\n",
    "\n",
    "\n",
    "class HDFSConnector:\n",
    "\n",
    "    def fetch(spark, config):\n",
    "        ################### INPUT HADOOP HOST PORT TO CONNECT WITH ###############################\n",
    "        hdfs = HDFileSystem(\n",
    "            host=eval(config)['host'], port=eval(config)['port'])\n",
    "        with hdfs.open(eval(config)['url']) as f:\n",
    "            df = pd.read_csv(f, error_bad_lines=False)\n",
    "        df = spark.createDataFrame(dfPd)\n",
    "        display(df.limit(2).toPandas())\n",
    "        return df\n",
    "\n",
    "    def put(df, spark, config):\n",
    "        return df.write.format('csv').options(header='true' if eval(config)[\"is_header\"] == \"Use Header Line\" else 'false',\n",
    "                                              delimiter=eval(config)[\"delimiter\"]).save((\"%s %s\") % (datetime.datetime.now().strftime(\"%Y-%m-%d %H.%M.%S\")+\"_\", eval(config)['url']))\n"
   ]
  },
  {
   "cell_type": "markdown",
   "id": "0214be5d",
   "metadata": {},
   "source": [
    "***TRANSFORMATIONS FUNCTIONS THAT WILL BE APPLIED ON DATA***"
   ]
  },
  {
   "cell_type": "code",
   "execution_count": null,
   "id": "b0127ea9",
   "metadata": {},
   "outputs": [],
   "source": [
    "import json\n",
    "from pyspark.sql.functions import col, when\n",
    "from pyspark.sql.functions import mean, stddev, min, max, col\n",
    "\n",
    "\n",
    "class CleanseData:\n",
    "    # def __init__(self,df):\n",
    "    #     #print()\n",
    "\n",
    "    def replaceByMean(self, feature, df, mean_=-1):\n",
    "\n",
    "        meanValue = df.select(mean(col(feature.name)).alias(\n",
    "            'mean')).collect()[0][\"mean\"]\n",
    "        df.fillna(meanValue, subset=[feature.name])\n",
    "        df.withColumn(feature.name, when(col(feature.name) == \" \",\n",
    "                      meanValue).otherwise(col(feature.name).cast(\"Integer\")))\n",
    "        return df\n",
    "\n",
    "    def replaceByMax(self, feature, df, max_=-1):\n",
    "        maxValue = df.select(max(col(feature.name)).alias('max')).collect()[\n",
    "            0][\"max\"]\n",
    "        df.fillna(maxValue, subset=[feature.name])\n",
    "        df = df.withColumn(feature.name,\n",
    "                           when(col(feature.name) == \" \", maxValue).otherwise(col(feature.name)))\n",
    "        return df\n",
    "\n",
    "    def replaceByMin(self, feature, df, min_=-1):\n",
    "        minValue = df.select(min(col(feature.name)).alias('min')).collect()[\n",
    "            0][\"min\"]\n",
    "        df.fillna(minValue, subset=[feature.name])\n",
    "        df = df.withColumn(feature.name,\n",
    "                           when(col(feature.name) == \" \", minValue).otherwise(col(feature.name)))\n",
    "        return df\n",
    "\n",
    "    def replaceByStandardDeviation(self, feature, df, stddev_=-1):\n",
    "        stddevValue = df.select(stddev(col(feature.name)).alias(\n",
    "            'stddev')).collect()[0][\"stddev\"]\n",
    "        df.fillna(stddevValue, subset=[feature.name])\n",
    "        df = df.withColumn(feature.name,\n",
    "                           when(col(feature.name) == \" \", stddevValue).otherwise(col(feature.name)))\n",
    "        return df\n",
    "\n",
    "    def replaceDateRandomly(self, feature, df):\n",
    "        fillValue = df.where(col(feature.name).isNotNull()\n",
    "                             ).head(1)[0][feature.name]\n",
    "        df.fillna(str(fillValue), subset=[feature.name])\n",
    "        df = df.withColumn(feature.name,\n",
    "                           when(col(feature.name) == \" \", fillValue).otherwise(col(feature.name)))\n",
    "        # print(\"CleanseData:replaceDateRandomly Schema : \", df.#printSchema())\n",
    "        return df\n",
    "\n",
    "    def replaceNullValues(self, fList, df):\n",
    "        featuresList = df.schema.fields\n",
    "        for featureObj in fList:\n",
    "            for feat in featuresList:\n",
    "                if featureObj[\"feature\"] in feat.name:\n",
    "                    featureName = feat\n",
    "                    if \"mean\" in featureObj[\"replaceby\"]:\n",
    "                        df = self.replaceByMean(featureName, df)\n",
    "                    elif \"max\" in featureObj[\"replaceby\"]:\n",
    "                        df = self.replaceByMax(featureName, df)\n",
    "                    elif \"min\" in featureObj[\"replaceby\"]:\n",
    "                        df = self.replaceByMin(featureName, df)\n",
    "                    elif \"stddev\" in featureObj[\"replaceby\"]:\n",
    "                        df = self.replaceByStandardDeviation(featureName, df)\n",
    "                    elif \"random\" in featureObj[\"replaceby\"]:\n",
    "                        df = self.replaceDateRandomly(featureName, df)\n",
    "        return df\n",
    "\n",
    "\n",
    "class TransformationMain:\n",
    "    # TODO: change df argument in run with following\n",
    "    def run(transformationDF, config):\n",
    "        configObj = json.loads(config)\n",
    "        featureData = configObj[\"FE\"]\n",
    "        transformationDF = CleanseData().replaceNullValues(featureData, transformationDF)\n",
    "        display(transformationDF.limit(2).toPandas())\n",
    "        return transformationDF\n"
   ]
  },
  {
   "cell_type": "markdown",
   "id": "14b1d077",
   "metadata": {},
   "source": [
    "***AUTOML FUNCTIONS***"
   ]
  },
  {
   "cell_type": "code",
   "execution_count": null,
   "id": "1d7fa9b1",
   "metadata": {},
   "outputs": [],
   "source": [
    "from tpot import TPOTClassifier\n",
    "from sklearn.model_selection import train_test_split\n",
    "import pyspark\n",
    "\n",
    "\n",
    "def functionClassification(sparkDF, listOfFeatures, label):\n",
    "    sparkDF.persist(pyspark.StorageLevel.MEMORY_AND_DISK)\n",
    "    df = (sparkDF.toPandas())\n",
    "    X = (df.drop(label, axis=1))[listOfFeatures].values\n",
    "    y = df[label].values\n",
    "    X_train, X_test, y_train, y_test = train_test_split(\n",
    "        X, y, random_state=1, test_size=0.1)\n",
    "    tpotModel = TPOTClassifier(verbosity=3, n_jobs=-1, generations=10, max_time_mins=5,\n",
    "                               population_size=15)\n",
    "    tpotModel.fit(X_train, y_train)\n",
    "    display(\" Accuracy of Model : %s\" % tpotModel.score(X_test, y_test))\n",
    "    data = {'model': tpotModel,\n",
    "            'X_test': X_test,\n",
    "            'y_test': y_test,\n",
    "            'label': label,\n",
    "            'columnNames': listOfFeatures}\n",
    "    return data\n"
   ]
  },
  {
   "cell_type": "markdown",
   "id": "c8fcc29a",
   "metadata": {},
   "source": [
    "***READING DATAFRAME***"
   ]
  },
  {
   "cell_type": "code",
   "execution_count": null,
   "id": "cac810fa",
   "metadata": {},
   "outputs": [],
   "source": [
    "############## CREATE SPARK SESSION ############################ ENTER YOUR SPARK MASTER IP AND PORT TO CONNECT TO SERVER ################\n",
    "from pyspark.sql import SparkSession\n",
    "spark = SparkSession.builder.master('spark://backendmaster:7077').getOrCreate()\n",
    "#%run creditcardclassf130augHooks.ipynb\n",
    "try:\n",
    "\t#sourcePreExecutionHook()\n",
    "\n",
    "\tcreditcardtraindata = HDFSConnector.fetch(spark, \"{'url': '/FileStore/platform/testdata/1692339008957_creditcardTrainData.csv', 'filename': 'creditcardTrainData.csv', 'delimiter': ',', 'file_type': 'Delimeted', 'FilePath': '/Finance/Credit Card/creditcardTrainData.csv', 'viewFileName': 'creditcardTrainData.csv', 'is_header': 'Use Header Line', 'baseType': 'hdfs', 'server_url': '/numtraPlatform/NumtraPlatformV3/uploads/platform/', 'results_url': 'http://ml.numtra.com:44040/api/read/hdfs'}\")\n",
    "\n",
    "except Exception as ex: \n",
    "\tlogging.error(ex)\n",
    "spark.stop()\n"
   ]
  },
  {
   "cell_type": "markdown",
   "id": "2843692f",
   "metadata": {},
   "source": [
    "***TRANSFORMING DATAFRAME***"
   ]
  },
  {
   "cell_type": "code",
   "execution_count": null,
   "id": "e3368525",
   "metadata": {},
   "outputs": [],
   "source": [
    "#%run creditcardclassf130augHooks.ipynb\n",
    "try:\n",
    "\t#transformationPreExecutionHook()\n",
    "\n",
    "\tcreditcardclassfaugautofe = TransformationMain.run(creditcardtraindata,json.dumps( {\"FE\": [{\"transformationsData\": [{\"transformation_label\": \"novalue\"}], \"feature\": \"Time\", \"type\": \"real\", \"selected\": \"True\", \"replaceby\": \"mean\", \"stats\": {\"count\": \"500\", \"mean\": \"89331.5\", \"stddev\": \"199.27\", \"min\": \"88999.0\", \"max\": \"89685.0\", \"missing\": \"0\"}, \"transformation\": [{\"transformation\": \"novalue\", \"selectedAsDefault\": 1}], \"updatedLabel\": \"Time\"}, {\"transformationsData\": [{\"transformation_label\": \"novalue\"}], \"feature\": \"V1\", \"type\": \"real\", \"selected\": \"True\", \"replaceby\": \"mean\", \"stats\": {\"count\": \"500\", \"mean\": \"-0.15\", \"stddev\": \"1.24\", \"min\": \"-5.852465108\", \"max\": \"1.586092522\", \"missing\": \"0\"}, \"transformation\": [{\"transformation\": \"novalue\", \"selectedAsDefault\": 1}], \"updatedLabel\": \"V1\"}, {\"transformationsData\": [{\"transformation_label\": \"novalue\"}], \"feature\": \"V2\", \"type\": \"real\", \"selected\": \"True\", \"replaceby\": \"mean\", \"stats\": {\"count\": \"500\", \"mean\": \"0.22\", \"stddev\": \"1.11\", \"min\": \"-5.931717441\", \"max\": \"5.26737615\", \"missing\": \"0\"}, \"transformation\": [{\"transformation\": \"novalue\", \"selectedAsDefault\": 1}], \"updatedLabel\": \"V2\"}, {\"transformationsData\": [{\"transformation_label\": \"novalue\"}], \"feature\": \"V3\", \"type\": \"real\", \"selected\": \"True\", \"replaceby\": \"mean\", \"stats\": {\"count\": \"500\", \"mean\": \"0.64\", \"stddev\": \"1.16\", \"min\": \"-7.572355818\", \"max\": \"3.194595344\", \"missing\": \"0\"}, \"transformation\": [{\"transformation\": \"novalue\", \"selectedAsDefault\": 1}], \"updatedLabel\": \"V3\"}, {\"transformationsData\": [{\"transformation_label\": \"novalue\"}], \"feature\": \"V4\", \"type\": \"real\", \"selected\": \"True\", \"replaceby\": \"mean\", \"stats\": {\"count\": \"500\", \"mean\": \"0.31\", \"stddev\": \"1.22\", \"min\": \"-4.657545034\", \"max\": \"3.997905588\", \"missing\": \"0\"}, \"transformation\": [{\"transformation\": \"novalue\", \"selectedAsDefault\": 1}], \"updatedLabel\": \"V4\"}, {\"transformationsData\": [{\"transformation_label\": \"novalue\"}], \"feature\": \"V5\", \"type\": \"real\", \"selected\": \"True\", \"replaceby\": \"mean\", \"stats\": {\"count\": \"500\", \"mean\": \"0.03\", \"stddev\": \"1.05\", \"min\": \"-3.125908514\", \"max\": \"7.672543966\", \"missing\": \"0\"}, \"transformation\": [{\"transformation\": \"novalue\", \"selectedAsDefault\": 1}], \"updatedLabel\": \"V5\"}, {\"transformationsData\": [{\"transformation_label\": \"novalue\"}], \"feature\": \"V6\", \"type\": \"real\", \"selected\": \"True\", \"replaceby\": \"mean\", \"stats\": {\"count\": \"500\", \"mean\": \"0.02\", \"stddev\": \"1.38\", \"min\": \"-2.89524724\", \"max\": \"6.089350985\", \"missing\": \"0\"}, \"transformation\": [{\"transformation\": \"novalue\", \"selectedAsDefault\": 1}], \"updatedLabel\": \"V6\"}, {\"transformationsData\": [{\"transformation_label\": \"novalue\"}], \"feature\": \"V7\", \"type\": \"real\", \"selected\": \"True\", \"replaceby\": \"mean\", \"stats\": {\"count\": \"500\", \"mean\": \"0.08\", \"stddev\": \"0.84\", \"min\": \"-4.925568043\", \"max\": \"4.185906257\", \"missing\": \"0\"}, \"transformation\": [{\"transformation\": \"novalue\", \"selectedAsDefault\": 1}], \"updatedLabel\": \"V7\"}, {\"transformationsData\": [{\"transformation_label\": \"novalue\"}], \"feature\": \"V8\", \"type\": \"real\", \"selected\": \"True\", \"replaceby\": \"mean\", \"stats\": {\"count\": \"500\", \"mean\": \"-0.07\", \"stddev\": \"0.85\", \"min\": \"-7.494657608\", \"max\": \"1.726412535\", \"missing\": \"0\"}, \"transformation\": [{\"transformation\": \"novalue\", \"selectedAsDefault\": 1}], \"updatedLabel\": \"V8\"}, {\"transformationsData\": [{\"transformation_label\": \"novalue\"}], \"feature\": \"V9\", \"type\": \"real\", \"selected\": \"True\", \"replaceby\": \"mean\", \"stats\": {\"count\": \"500\", \"mean\": \"-0.2\", \"stddev\": \"0.97\", \"min\": \"-3.74059751\", \"max\": \"4.802464879\", \"missing\": \"0\"}, \"transformation\": [{\"transformation\": \"novalue\", \"selectedAsDefault\": 1}], \"updatedLabel\": \"V9\"}, {\"transformationsData\": [{\"transformation_label\": \"novalue\"}], \"feature\": \"V10\", \"type\": \"real\", \"selected\": \"True\", \"replaceby\": \"mean\", \"stats\": {\"count\": \"500\", \"mean\": \"0.17\", \"stddev\": \"1.11\", \"min\": \"-3.651810546\", \"max\": \"11.15397637\", \"missing\": \"0\"}, \"transformation\": [{\"transformation\": \"novalue\", \"selectedAsDefault\": 1}], \"updatedLabel\": \"V10\"}, {\"transformationsData\": [{\"transformation_label\": \"novalue\"}], \"feature\": \"V11\", \"type\": \"real\", \"selected\": \"True\", \"replaceby\": \"mean\", \"stats\": {\"count\": \"500\", \"mean\": \"-0.26\", \"stddev\": \"0.89\", \"min\": \"-3.04610694\", \"max\": \"1.664526627\", \"missing\": \"0\"}, \"transformation\": [{\"transformation\": \"novalue\", \"selectedAsDefault\": 1}], \"updatedLabel\": \"V11\"}, {\"transformationsData\": [{\"transformation_label\": \"novalue\"}], \"feature\": \"V12\", \"type\": \"real\", \"selected\": \"True\", \"replaceby\": \"mean\", \"stats\": {\"count\": \"500\", \"mean\": \"0.25\", \"stddev\": \"0.82\", \"min\": \"-8.707879292\", \"max\": \"4.403898555\", \"missing\": \"0\"}, \"transformation\": [{\"transformation\": \"novalue\", \"selectedAsDefault\": 1}], \"updatedLabel\": \"V12\"}, {\"transformationsData\": [{\"transformation_label\": \"novalue\"}], \"feature\": \"V13\", \"type\": \"real\", \"selected\": \"True\", \"replaceby\": \"mean\", \"stats\": {\"count\": \"500\", \"mean\": \"-0.03\", \"stddev\": \"0.93\", \"min\": \"-2.899032811\", \"max\": \"2.361502055\", \"missing\": \"0\"}, \"transformation\": [{\"transformation\": \"novalue\", \"selectedAsDefault\": 1}], \"updatedLabel\": \"V13\"}, {\"transformationsData\": [{\"transformation_label\": \"novalue\"}], \"feature\": \"V14\", \"type\": \"real\", \"selected\": \"True\", \"replaceby\": \"mean\", \"stats\": {\"count\": \"500\", \"mean\": \"-0.0\", \"stddev\": \"0.86\", \"min\": \"-9.577194393\", \"max\": \"7.421943853\", \"missing\": \"0\"}, \"transformation\": [{\"transformation\": \"novalue\", \"selectedAsDefault\": 1}], \"updatedLabel\": \"V14\"}, {\"transformationsData\": [{\"transformation_label\": \"novalue\"}], \"feature\": \"V15\", \"type\": \"real\", \"selected\": \"True\", \"replaceby\": \"mean\", \"stats\": {\"count\": \"500\", \"mean\": \"0.24\", \"stddev\": \"0.93\", \"min\": \"-3.618059825\", \"max\": \"2.501394702\", \"missing\": \"0\"}, \"transformation\": [{\"transformation\": \"novalue\", \"selectedAsDefault\": 1}], \"updatedLabel\": \"V15\"}, {\"transformationsData\": [{\"transformation_label\": \"novalue\"}], \"feature\": \"V16\", \"type\": \"real\", \"selected\": \"True\", \"replaceby\": \"mean\", \"stats\": {\"count\": \"500\", \"mean\": \"0.05\", \"stddev\": \"0.92\", \"min\": \"-3.533506913\", \"max\": \"3.594874683\", \"missing\": \"0\"}, \"transformation\": [{\"transformation\": \"novalue\", \"selectedAsDefault\": 1}], \"updatedLabel\": \"V16\"}, {\"transformationsData\": [{\"transformation_label\": \"novalue\"}], \"feature\": \"V17\", \"type\": \"real\", \"selected\": \"True\", \"replaceby\": \"mean\", \"stats\": {\"count\": \"500\", \"mean\": \"-0.09\", \"stddev\": \"0.81\", \"min\": \"-12.50393097\", \"max\": \"2.758454159\", \"missing\": \"0\"}, \"transformation\": [{\"transformation\": \"novalue\", \"selectedAsDefault\": 1}], \"updatedLabel\": \"V17\"}, {\"transformationsData\": [{\"transformation_label\": \"novalue\"}], \"feature\": \"V18\", \"type\": \"real\", \"selected\": \"True\", \"replaceby\": \"mean\", \"stats\": {\"count\": \"500\", \"mean\": \"-0.02\", \"stddev\": \"0.88\", \"min\": \"-2.66186027\", \"max\": \"2.584307206\", \"missing\": \"0\"}, \"transformation\": [{\"transformation\": \"novalue\", \"selectedAsDefault\": 1}], \"updatedLabel\": \"V18\"}, {\"transformationsData\": [{\"transformation_label\": \"novalue\"}], \"feature\": \"V19\", \"type\": \"real\", \"selected\": \"True\", \"replaceby\": \"mean\", \"stats\": {\"count\": \"500\", \"mean\": \"-0.02\", \"stddev\": \"0.84\", \"min\": \"-2.452829938\", \"max\": \"3.078990407\", \"missing\": \"0\"}, \"transformation\": [{\"transformation\": \"novalue\", \"selectedAsDefault\": 1}], \"updatedLabel\": \"V19\"}, {\"transformationsData\": [{\"transformation_label\": \"novalue\"}], \"feature\": \"V20\", \"type\": \"real\", \"selected\": \"True\", \"replaceby\": \"mean\", \"stats\": {\"count\": \"500\", \"mean\": \"0.06\", \"stddev\": \"0.98\", \"min\": \"-10.06949862\", \"max\": \"10.23315086\", \"missing\": \"0\"}, \"transformation\": [{\"transformation\": \"novalue\", \"selectedAsDefault\": 1}], \"updatedLabel\": \"V20\"}, {\"transformationsData\": [{\"transformation_label\": \"novalue\"}], \"feature\": \"V21\", \"type\": \"real\", \"selected\": \"True\", \"replaceby\": \"mean\", \"stats\": {\"count\": \"500\", \"mean\": \"0.09\", \"stddev\": \"0.52\", \"min\": \"-2.963596118\", \"max\": \"3.944361437\", \"missing\": \"0\"}, \"transformation\": [{\"transformation\": \"novalue\", \"selectedAsDefault\": 1}], \"updatedLabel\": \"V21\"}, {\"transformationsData\": [{\"transformation_label\": \"novalue\"}], \"feature\": \"V22\", \"type\": \"real\", \"selected\": \"True\", \"replaceby\": \"mean\", \"stats\": {\"count\": \"500\", \"mean\": \"-0.13\", \"stddev\": \"0.6\", \"min\": \"-2.331390339\", \"max\": \"1.461535075\", \"missing\": \"0\"}, \"transformation\": [{\"transformation\": \"novalue\", \"selectedAsDefault\": 1}], \"updatedLabel\": \"V22\"}, {\"transformationsData\": [{\"transformation_label\": \"novalue\"}], \"feature\": \"V23\", \"type\": \"real\", \"selected\": \"True\", \"replaceby\": \"mean\", \"stats\": {\"count\": \"500\", \"mean\": \"-0.04\", \"stddev\": \"0.32\", \"min\": \"-1.786328942\", \"max\": \"3.150413499\", \"missing\": \"0\"}, \"transformation\": [{\"transformation\": \"novalue\", \"selectedAsDefault\": 1}], \"updatedLabel\": \"V23\"}, {\"transformationsData\": [{\"transformation_label\": \"novalue\"}], \"feature\": \"V24\", \"type\": \"real\", \"selected\": \"True\", \"replaceby\": \"mean\", \"stats\": {\"count\": \"500\", \"mean\": \"-0.03\", \"stddev\": \"0.63\", \"min\": \"-1.867208192\", \"max\": \"1.108439997\", \"missing\": \"0\"}, \"transformation\": [{\"transformation\": \"novalue\", \"selectedAsDefault\": 1}], \"updatedLabel\": \"V24\"}, {\"transformationsData\": [{\"transformation_label\": \"novalue\"}], \"feature\": \"V25\", \"type\": \"real\", \"selected\": \"True\", \"replaceby\": \"mean\", \"stats\": {\"count\": \"500\", \"mean\": \"0.11\", \"stddev\": \"0.43\", \"min\": \"-1.389079168\", \"max\": \"1.125918008\", \"missing\": \"0\"}, \"transformation\": [{\"transformation\": \"novalue\", \"selectedAsDefault\": 1}], \"updatedLabel\": \"V25\"}, {\"transformationsData\": [{\"transformation_label\": \"novalue\"}], \"feature\": \"V26\", \"type\": \"real\", \"selected\": \"True\", \"replaceby\": \"mean\", \"stats\": {\"count\": \"500\", \"mean\": \"0.06\", \"stddev\": \"0.48\", \"min\": \"-1.228422571\", \"max\": \"1.194424515\", \"missing\": \"0\"}, \"transformation\": [{\"transformation\": \"novalue\", \"selectedAsDefault\": 1}], \"updatedLabel\": \"V26\"}, {\"transformationsData\": [{\"transformation_label\": \"novalue\"}], \"feature\": \"V27\", \"type\": \"real\", \"selected\": \"True\", \"replaceby\": \"mean\", \"stats\": {\"count\": \"500\", \"mean\": \"0.01\", \"stddev\": \"0.35\", \"min\": \"-2.639966768\", \"max\": \"1.795968246\", \"missing\": \"0\"}, \"transformation\": [{\"transformation\": \"novalue\", \"selectedAsDefault\": 1}], \"updatedLabel\": \"V27\"}, {\"transformationsData\": [{\"transformation_label\": \"novalue\"}], \"feature\": \"V28\", \"type\": \"real\", \"selected\": \"True\", \"replaceby\": \"mean\", \"stats\": {\"count\": \"500\", \"mean\": \"-0.01\", \"stddev\": \"0.27\", \"min\": \"-2.735622762\", \"max\": \"1.573083584\", \"missing\": \"0\"}, \"transformation\": [{\"transformation\": \"novalue\", \"selectedAsDefault\": 1}], \"updatedLabel\": \"V28\"}, {\"transformationsData\": [{\"transformation_label\": \"novalue\"}], \"feature\": \"Amount\", \"type\": \"real\", \"selected\": \"True\", \"replaceby\": \"mean\", \"stats\": {\"count\": \"500\", \"mean\": \"87.23\", \"stddev\": \"249.47\", \"min\": \"0.0\", \"max\": \"4102.74\", \"missing\": \"0\"}, \"transformation\": [{\"transformation\": \"novalue\", \"selectedAsDefault\": 1}], \"updatedLabel\": \"Amount\"}, {\"transformationsData\": [{\"transformation_label\": \"novalue\"}], \"feature\": \"Class\", \"transformation\": [{\"transformation\": \"novalue\", \"selectedAsDefault\": 1}], \"type\": \"numeric\", \"replaceby\": \"mean\", \"selected\": \"True\", \"stats\": {\"count\": \"500\", \"mean\": \"0.0\", \"stddev\": \"0.0\", \"min\": \"0\", \"max\": \"0\", \"missing\": \"0\"}, \"updatedLabel\": \"Class\"}]}))\n",
    "\n",
    "\t#transformationPostExecutionHook(creditcardclassfaugautofe)\n",
    "\n",
    "except Exception as ex: \n",
    "\tlogging.error(ex)\n"
   ]
  },
  {
   "cell_type": "markdown",
   "id": "7f687adb",
   "metadata": {},
   "source": [
    "***TRAIN MODEL***"
   ]
  },
  {
   "cell_type": "code",
   "execution_count": null,
   "id": "e60f3c08",
   "metadata": {},
   "outputs": [],
   "source": [
    "#%run creditcardclassf130augHooks.ipynb\n",
    "try:\n",
    "\t#mlPreExecutionHook()\n",
    "\n",
    "\tdataAutoML=functionClassification(creditcardclassfaugautofe, [\"Time\", \"V1\", \"V2\", \"V3\", \"V4\", \"V5\", \"V6\", \"V7\", \"V8\", \"V9\", \"V10\", \"V11\", \"V12\", \"V13\", \"V14\", \"V15\", \"V16\", \"V17\", \"V18\", \"V19\", \"V20\", \"V21\", \"V22\", \"V23\", \"V24\", \"V25\", \"V26\", \"V27\", \"V28\", \"Amount\"], \"Class\")\n",
    "\n",
    "\t#mlPostExecutionHook(dataAutoML)\n",
    "\n",
    "except Exception as ex: \n",
    "\tlogging.error(ex)\n"
   ]
  },
  {
   "cell_type": "markdown",
   "id": "43d09023",
   "metadata": {},
   "source": [
    "***PREDICT ON TRAINED MODEL***"
   ]
  },
  {
   "cell_type": "code",
   "execution_count": null,
   "id": "95a8cfdb",
   "metadata": {},
   "outputs": [],
   "source": [
    "import pandas as pd\n",
    "import numpy as np\n",
    "import sklearn.metrics\n",
    "\n",
    "try:\n",
    "    model=dataAutoML['model']\n",
    "    X_test=dataAutoML['X_test']\n",
    "    y_test=dataAutoML['y_test']\n",
    "    label=dataAutoML['label']\n",
    "    columnNames=dataAutoML['columnNames']\n",
    "    if label in columnNames:\n",
    "        columnNames.remove(label)\n",
    "    predicted=label+\"_predicted\"\n",
    "    y_predicted=model.predict(X_test)\n",
    "    df =pd.DataFrame(X_test , columns=columnNames)\n",
    "    df[label]=y_test\n",
    "    df[predicted]=y_predicted\n",
    "    columnNames.insert(0,predicted)\n",
    "    columnNames.insert(0,label)\n",
    "    Accuracy = np.round((100 * sklearn.metrics.accuracy_score(y_true=y_test, y_pred=y_predicted)), 1)\n",
    "    F1= np.round(\n",
    "            (100 * sklearn.metrics.f1_score(y_true=y_test, y_pred=y_predicted, average=\"weighted\")), 1)\n",
    "    Precision= np.round((\n",
    "                100 * sklearn.metrics.precision_score(y_true=y_test, y_pred=y_predicted, average=\"weighted\")), 1)\n",
    "    Recall = np.round((\n",
    "                100 * sklearn.metrics.recall_score(y_true=y_test, y_pred=y_predicted, average=\"weighted\")), 1)\n",
    "    display(\" Accuracy of Prediction on test data    : %s\"%Accuracy)\n",
    "    display(\" F1 score of Prediction on test data    : %s\"%F1)\n",
    "    display(\" Precision of Prediction on test data   : %s\"%Precision)\n",
    "    display(\" Recall of Prediction on test data      : %s\"%Recall)\n",
    "    display(df.head())\n",
    "except Exception as ex:\n",
    "    logging.error(ex)\n",
    "\n"
   ]
  }
 ],
 "metadata": {},
 "nbformat": 4,
 "nbformat_minor": 5
}
